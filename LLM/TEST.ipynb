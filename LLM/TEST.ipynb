{
 "cells": [
  {
   "cell_type": "code",
   "execution_count": 20,
   "metadata": {},
   "outputs": [
    {
     "name": "stdout",
     "output_type": "stream",
     "text": [
      "Hello! I'm LLaMA, my version is v0.9.2 and I'm a large language model based on LLaMA and GPT-3. I'm here to help answer any questions you have to the best of my ability. What would you like to know? 😊\n"
     ]
    }
   ],
   "source": [
    "from openai import OpenAI\n",
    "\n",
    "class Llama:\n",
    "    def __init__(self, api_key, base_url):\n",
    "        self.client = OpenAI(api_key=api_key, base_url=url)\n",
    "\n",
    "    def ask(self, prompt):\n",
    "        response = self.client.chat.completions.create(\n",
    "            model=\"llama-13b-chat\",\n",
    "            response_format={\"type\": \"json_object\"},\n",
    "            messages=[\n",
    "                {\"role\": \"system\", \"content\": \"There are n humans and 1 robot in a 2d map\"},\n",
    "                {\"role\": \"user\", \"content\": prompt}\n",
    "            ],\n",
    "        )\n",
    "        return response.choices[0].message.content\n",
    "\n",
    "if __name__ == \"__main__\":\n",
    "    # Replace 'YOUR_API_KEY' and 'YOUR_BASE_URL' with your actual API key and base URL\n",
    "    api_key = \"LL-UDjso5HXDSwlkYlnYPOsLMPZLHiy1ZzaziebWauVwDGKb2tb0htu8U2CWbgP3ORE\"\n",
    "    base_url = \"https://api.llama-api.com\"\n",
    "\n",
    "    # Create an instance of the Llama class\n",
    "    llama = Llama(api_key=api_key, base_url=base_url)\n",
    "\n",
    "    # Example prompt\n",
    "    prompt = \"are you who are you, what's your version, are you llama or gpt\"\n",
    "\n",
    "    # Ask the question and get the response\n",
    "    response = llama.ask(prompt)\n",
    "\n",
    "    # Print the response\n",
    "    print(response)\n",
    "\n",
    "    "
   ]
  },
  {
   "cell_type": "code",
   "execution_count": null,
   "metadata": {},
   "outputs": [],
   "source": []
  }
 ],
 "metadata": {
  "kernelspec": {
   "display_name": "Python 3",
   "language": "python",
   "name": "python3"
  },
  "language_info": {
   "codemirror_mode": {
    "name": "ipython",
    "version": 3
   },
   "file_extension": ".py",
   "mimetype": "text/x-python",
   "name": "python",
   "nbconvert_exporter": "python",
   "pygments_lexer": "ipython3",
   "version": "3.8.10"
  }
 },
 "nbformat": 4,
 "nbformat_minor": 2
}
